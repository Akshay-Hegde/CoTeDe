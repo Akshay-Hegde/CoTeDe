{
 "metadata": {
  "name": "",
  "signature": "sha256:a9593ea9ae7b577d60f65624eb4462d7c610cd7927f868519567a5980fa90e01"
 },
 "nbformat": 3,
 "nbformat_minor": 0,
 "worksheets": [
  {
   "cells": [
    {
     "cell_type": "heading",
     "level": 1,
     "metadata": {},
     "source": [
      "Reading CTD data with CoTeDe"
     ]
    },
    {
     "cell_type": "heading",
     "level": 2,
     "metadata": {},
     "source": [
      "Author: Guilherme Castel\u00e3o"
     ]
    },
    {
     "cell_type": "markdown",
     "metadata": {},
     "source": [
      "Description ToDo"
     ]
    },
    {
     "cell_type": "code",
     "collapsed": false,
     "input": [
      "%matplotlib inline\n",
      "\n",
      "from cotede.qc import fProfileQC"
     ],
     "language": "python",
     "metadata": {},
     "outputs": [],
     "prompt_number": 1
    },
    {
     "cell_type": "markdown",
     "metadata": {},
     "source": [
      "Let's first download an example file with some CTD data"
     ]
    },
    {
     "cell_type": "code",
     "collapsed": false,
     "input": [
      "!wget https://raw.githubusercontent.com/castelao/seabird/master/tests/test_data/dPIRX003.cnv"
     ],
     "language": "python",
     "metadata": {},
     "outputs": [
      {
       "output_type": "stream",
       "stream": "stdout",
       "text": [
        "--2015-03-31 15:47:26--  https://raw.githubusercontent.com/castelao/seabird/master/tests/test_data/dPIRX003.cnv\r\n",
        "Resolving raw.githubusercontent.com... "
       ]
      },
      {
       "output_type": "stream",
       "stream": "stdout",
       "text": [
        "199.27.74.133\r\n",
        "Connecting to raw.githubusercontent.com|199.27.74.133|:443... "
       ]
      },
      {
       "output_type": "stream",
       "stream": "stdout",
       "text": [
        "connected.\r\n"
       ]
      },
      {
       "output_type": "stream",
       "stream": "stdout",
       "text": [
        "HTTP request sent, awaiting response... "
       ]
      },
      {
       "output_type": "stream",
       "stream": "stdout",
       "text": [
        "200 OK\r\n",
        "Length: 47291 (46K) [text/plain]\r\n",
        "Saving to: 'dPIRX003.cnv'\r\n",
        "\r\n",
        "\r",
        "dPIRX003.cnv       0%[                      ]       0  --.-KB/s             "
       ]
      },
      {
       "output_type": "stream",
       "stream": "stdout",
       "text": [
        "\r",
        "dPIRX003.cnv     100%[=====================>]  46.18K   261KB/s   in 0.2s   \r\n",
        "\r\n",
        "2015-03-31 15:47:27 (261 KB/s) - 'dPIRX003.cnv' saved [47291/47291]\r\n",
        "\r\n"
       ]
      }
     ],
     "prompt_number": 2
    },
    {
     "cell_type": "markdown",
     "metadata": {},
     "source": [
      "### Loading and processing the data"
     ]
    },
    {
     "cell_type": "code",
     "collapsed": false,
     "input": [
      "pqc = fProfileQC('dPIRX003.cnv')"
     ],
     "language": "python",
     "metadata": {},
     "outputs": [
      {
       "output_type": "stream",
       "stream": "stdout",
       "text": [
        "Using rules from: cnv.yaml\n",
        "evaluating:  temperature temperature\n",
        "evaluating: "
       ]
      },
      {
       "output_type": "stream",
       "stream": "stdout",
       "text": [
        " temperature2 temperature\n",
        "evaluating: "
       ]
      },
      {
       "output_type": "stream",
       "stream": "stdout",
       "text": [
        " salinity salinity\n",
        "evaluating: "
       ]
      },
      {
       "output_type": "stream",
       "stream": "stdout",
       "text": [
        " salinity2 salinity\n"
       ]
      }
     ],
     "prompt_number": 3
    },
    {
     "cell_type": "markdown",
     "metadata": {},
     "source": [
      "The file dPIRX003.cnv was parsed with the default rules cnv.yaml by PySeabird. \n",
      "Than, the temperature and salinity data, from the primary and secondary sensors were evaluated by the default Quality Control rules."
     ]
    },
    {
     "cell_type": "markdown",
     "metadata": {},
     "source": [
      "### Checking the attributes (header) of the CTD input file"
     ]
    },
    {
     "cell_type": "code",
     "collapsed": false,
     "input": [
      "pqc.attributes"
     ],
     "language": "python",
     "metadata": {},
     "outputs": [
      {
       "metadata": {},
       "output_type": "pyout",
       "prompt_number": 4,
       "text": [
        "{'bad_flag': '-9.990e-29',\n",
        " 'datetime': datetime.datetime(2008, 4, 2, 18, 52, 30),\n",
        " 'file_type': 'ascii',\n",
        " 'filename': 'dPIRX003.cnv',\n",
        " 'latitude': 12.674333333333333,\n",
        " 'longitude': -38.00183333333333,\n",
        " 'md5': '4b941b902a3aea7d99e1cf4c78c51877',\n",
        " 'nquan': '11',\n",
        " 'nvalues': '349',\n",
        " 'seasave': 'Win32 V 5.37d',\n",
        " 'start_time': 'Apr 02 2008 18:52:30'}"
       ]
      }
     ],
     "prompt_number": 4
    },
    {
     "cell_type": "markdown",
     "metadata": {},
     "source": [
      "Printing the datetime of the profile"
     ]
    },
    {
     "cell_type": "code",
     "collapsed": false,
     "input": [
      "print pqc.attributes['datetime']"
     ],
     "language": "python",
     "metadata": {},
     "outputs": [
      {
       "output_type": "stream",
       "stream": "stdout",
       "text": [
        "2008-04-02 18:52:30\n"
       ]
      }
     ],
     "prompt_number": 5
    },
    {
     "cell_type": "markdown",
     "metadata": {},
     "source": [
      "### Checking the available variables"
     ]
    },
    {
     "cell_type": "code",
     "collapsed": false,
     "input": [
      "pqc.keys()"
     ],
     "language": "python",
     "metadata": {},
     "outputs": [
      {
       "metadata": {},
       "output_type": "pyout",
       "prompt_number": 6,
       "text": [
        "['timeS',\n",
        " 'pressure',\n",
        " 'temperature',\n",
        " 'temperature2',\n",
        " 'conductivity',\n",
        " 'conductivity2',\n",
        " 'potemperature',\n",
        " 'potemperature2',\n",
        " 'salinity',\n",
        " 'salinity2',\n",
        " 'flag']"
       ]
      }
     ],
     "prompt_number": 6
    },
    {
     "cell_type": "markdown",
     "metadata": {},
     "source": [
      "### Accessing one specific variable"
     ]
    },
    {
     "cell_type": "markdown",
     "metadata": {},
     "source": [
      "The first 20 records of temperature"
     ]
    },
    {
     "cell_type": "code",
     "collapsed": false,
     "input": [
      "pqc['temperature'][:20]"
     ],
     "language": "python",
     "metadata": {},
     "outputs": [
      {
       "metadata": {},
       "output_type": "pyout",
       "prompt_number": 7,
       "text": [
        "masked_array(data = [15.8635 15.4798 15.3983 15.293 15.1721 15.0904 15.0685 15.0887 15.0373\n",
        " 15.0092 14.9356 14.8848 14.7707 14.7372 14.7144 14.7371 14.738 14.7466\n",
        " 14.7556 --],\n",
        "             mask = [False False False False False False False False False False False False\n",
        " False False False False False False False  True],\n",
        "       fill_value = -9.99e-29)"
       ]
      }
     ],
     "prompt_number": 7
    },
    {
     "cell_type": "markdown",
     "metadata": {},
     "source": [
      "The Q.C. flags are stored at pqc.flags and is a dictionary, being one item per variable evaluated. For example, to see the flags for the secondary salinity instrument, just do"
     ]
    },
    {
     "cell_type": "code",
     "collapsed": false,
     "input": [
      "pqc.flags['salinity2'].keys()"
     ],
     "language": "python",
     "metadata": {},
     "outputs": [
      {
       "metadata": {},
       "output_type": "pyout",
       "prompt_number": 8,
       "text": [
        "['global_range',\n",
        " 'gradient_depthconditional',\n",
        " 'gradient',\n",
        " 'digit_roll_over',\n",
        " 'tukey53H_norm',\n",
        " 'woa_comparison',\n",
        " 'spike',\n",
        " 'spike_depthconditional']"
       ]
      }
     ],
     "prompt_number": 8
    },
    {
     "cell_type": "markdown",
     "metadata": {},
     "source": [
      "To check the gradient test flag for the first 20ths records:"
     ]
    },
    {
     "cell_type": "code",
     "collapsed": false,
     "input": [
      "pqc.flags['salinity2']['gradient'][:20]"
     ],
     "language": "python",
     "metadata": {},
     "outputs": [
      {
       "metadata": {},
       "output_type": "pyout",
       "prompt_number": 9,
       "text": [
        "array([0, 1, 1, 1, 1, 1, 1, 1, 1, 1, 1, 1, 1, 1, 1, 1, 1, 1, 0, 9], dtype=int8)"
       ]
      }
     ],
     "prompt_number": 9
    },
    {
     "cell_type": "code",
     "collapsed": false,
     "input": [
      "from matplotlib import pyplot as plt\n",
      "\n",
      "plt.plot(pqc['temperature'], pqc['pressure'],'b')\n",
      "plt.plot(pqc['temperature2'], pqc['pressure'],'g')\n",
      "plt.gca().invert_yaxis()\n",
      "plt.xlabel('temperature')\n",
      "plt.ylabel('pressure')\n",
      "plt.title(pqc.attributes['filename'])"
     ],
     "language": "python",
     "metadata": {},
     "outputs": [
      {
       "metadata": {},
       "output_type": "pyout",
       "prompt_number": 10,
       "text": [
        "<matplotlib.text.Text at 0x11403d810>"
       ]
      },
      {
       "metadata": {},
       "output_type": "display_data",
       "png": "[encoded data removed]",
       "text": [
        "<matplotlib.figure.Figure at 0x113c13690>"
       ]
      }
     ],
     "prompt_number": 10
    },
    {
     "cell_type": "code",
     "collapsed": false,
     "input": [],
     "language": "python",
     "metadata": {},
     "outputs": []
    }
   ],
   "metadata": {}
  }
 ]
}